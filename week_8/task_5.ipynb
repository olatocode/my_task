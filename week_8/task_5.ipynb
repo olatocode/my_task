{
 "cells": [
  {
   "cell_type": "markdown",
   "id": "74da7f44",
   "metadata": {},
   "source": [
    "### 1. Chi-square test (for categorical data):\n",
    "\n",
    "    Explanation: The Chi-square (\n",
    "    χ2chi squared\n",
    "    𝜒2\n",
    "    ) test is a non-parametric statistical test used to determine if there is a significant association between two categorical variables or if observed frequencies differ significantly from expected frequencies in one categorical variable. It is commonly used for goodness-of-fit tests and tests of independence. The formula for the chi-square statistic is\n",
    "    χ2=∑(Oi−Ei)2Eibold chi squared equals sum of the fraction with numerator open paren bold cap O sub bold i minus bold cap E sub bold i close paren squared and denominator bold cap E sub bold i end-fraction\n",
    "    𝛘𝟐=(𝐎𝐢−𝐄𝐢)𝟐𝐄𝐢\n",
    "    , where\n",
    "    Oicap O sub i\n",
    "    𝑂𝑖\n",
    "    represents the observed frequency and\n",
    "    Eicap E sub i\n",
    "    𝐸𝑖"
   ]
  },
  {
   "cell_type": "markdown",
   "id": "32366c5f",
   "metadata": {},
   "source": [
    "###  2. ANOVA (for comparing more than two means):\n",
    "        Explanation: Analysis of Variance (ANOVA) is a collection of statistical models used to analyze the differences among group means in a sample. It is particularly useful when comparing the means of three or more independent groups to determine if at least one group mean is significantly different from the others. There are different types of ANOVA, such as One-Way ANOVA (for one independent variable) and Two-Way ANOVA (for two independent variables). The F-statistic is the primary test statistic used in ANOVA. "
   ]
  },
  {
   "cell_type": "markdown",
   "id": "7f8723d9",
   "metadata": {},
   "source": [
    "### 3.two-Tailed Tests:\n",
    "\n",
    "    Explanation: In hypothesis testing, a two-tailed test is used when the alternative hypothesis (\n",
    "    H1cap H sub 1\n",
    "    𝐻1\n",
    "    ) suggests that the population parameter is significantly different from the null hypothesis (\n",
    "    H0cap H sub 0\n",
    "    𝐻0\n",
    "    ) value, without specifying a direction (i.e., it could be either greater than or less than). The critical region for rejecting the null hypothesis is split into two tails of the sampling distribution. The p-value obtained from the test is compared to the significance level (\n",
    "    αalpha\n",
    "    𝛼\n",
    "    ), and if\n",
    "    p<αbold p is less than bold alpha\n",
    "    𝐩<𝛂\n",
    "    , the null hypothesis is rejected. "
   ]
  },
  {
   "cell_type": "markdown",
   "id": "b5fe0818",
   "metadata": {},
   "source": [
    "### 4. Proportion Tests:\n",
    "\n",
    "    Explanation: Proportion tests are statistical tests used to compare observed proportions to hypothesized population proportions or to compare proportions between two or more groups. These tests are applicable when dealing with categorical data where the outcome is a proportion or percentage. Common proportion tests include the Z-test for one proportion (comparing a sample proportion to a known population proportion) and the Z-test for two proportions (comparing proportions from two independent samples). The test statistic is typically calculated as\n",
    "    Z=p̂−p0p0(1−p0)nbold cap Z equals the fraction with numerator bold p hat minus bold p sub 0 and denominator the square root of the fraction with numerator bold p sub 0 open paren 1 minus bold p sub 0 close paren and denominator bold n end-fraction end-root end-fraction\n",
    "    𝐙=𝐩̂−𝐩𝟎𝐩𝟎(𝟏−𝐩𝟎)𝐧\n",
    "    for a one-sample test."
   ]
  }
 ],
 "metadata": {
  "language_info": {
   "name": "python"
  }
 },
 "nbformat": 4,
 "nbformat_minor": 5
}
