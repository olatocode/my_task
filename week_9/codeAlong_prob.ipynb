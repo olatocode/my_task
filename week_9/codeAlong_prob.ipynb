{
 "cells": [
  {
   "cell_type": "code",
   "execution_count": 1,
   "id": "b6cc1c15",
   "metadata": {},
   "outputs": [],
   "source": [
    "import pandas as pd\n",
    "import numpy as numpy\n",
    "from zipfile import ZipFile\n",
    "from functools import reduce\n",
    "# import matplotlib.pyplot as plt\n",
    "from scipy import stats\n",
    "import os"
   ]
  },
  {
   "cell_type": "code",
   "execution_count": 2,
   "id": "a74a2c02",
   "metadata": {},
   "outputs": [
    {
     "name": "stdout",
     "output_type": "stream",
     "text": [
      "olist_customers_dataset.csv\n",
      "olist_geolocation_dataset.csv\n",
      "olist_orders_dataset.csv\n",
      "olist_order_items_dataset.csv\n",
      "olist_order_payments_dataset.csv\n",
      "olist_order_reviews_dataset.csv\n",
      "olist_products_dataset.csv\n",
      "olist_sellers_dataset.csv\n",
      "product_category_name_translation.csv\n"
     ]
    }
   ],
   "source": [
    "path = r\"C:\\Users\\ncc006\\Downloads\\archive (1).zip\"\n",
    "extracted_file = \"data_files\"\n",
    "with ZipFile(path, \"r\") as f:\n",
    "    f.extractall(\"data_files\")\n",
    "    data_frames = {}\n",
    "for file in os.listdir(extracted_file):\n",
    "    if file.endswith(\"csv\"):\n",
    "        file_path = os.path.join(extracted_file,file)\n",
    "        data_frames[file] = pd.read_csv(file_path)\n",
    "        \n",
    "for name, df in data_frames.items():\n",
    "    print(f\"{name}\")"
   ]
  },
  {
   "cell_type": "code",
   "execution_count": 3,
   "id": "ac1b8fe4",
   "metadata": {},
   "outputs": [
    {
     "name": "stdout",
     "output_type": "stream",
     "text": [
      "(99441, 5)\n",
      "Index(['customer_id', 'customer_unique_id', 'customer_zip_code_prefix',\n",
      "       'customer_city', 'customer_state'],\n",
      "      dtype='object')\n"
     ]
    }
   ],
   "source": [
    "customers = pd.read_csv(r\"data_files\\olist_customers_dataset.csv\")\n",
    "customers.head()\n",
    "print(customers.shape)\n",
    "print(customers.columns)"
   ]
  },
  {
   "cell_type": "code",
   "execution_count": 4,
   "id": "8e8a6c59",
   "metadata": {},
   "outputs": [
    {
     "name": "stdout",
     "output_type": "stream",
     "text": [
      "(1000163, 5)\n",
      "Index(['geolocation_zip_code_prefix', 'geolocation_lat', 'geolocation_lng',\n",
      "       'geolocation_city', 'geolocation_state'],\n",
      "      dtype='object')\n"
     ]
    }
   ],
   "source": [
    "geolocation = pd.read_csv(r\"data_files\\olist_geolocation_dataset.csv\")\n",
    "geolocation.head()\n",
    "print(geolocation.shape)\n",
    "print(geolocation.columns)"
   ]
  },
  {
   "cell_type": "code",
   "execution_count": 5,
   "id": "86a65af2",
   "metadata": {},
   "outputs": [
    {
     "name": "stdout",
     "output_type": "stream",
     "text": [
      "(112650, 7)\n",
      "Index(['order_id', 'order_item_id', 'product_id', 'seller_id',\n",
      "       'shipping_limit_date', 'price', 'freight_value'],\n",
      "      dtype='object')\n"
     ]
    }
   ],
   "source": [
    "order_items = pd.read_csv(r\"data_files\\olist_order_items_dataset.csv\")\n",
    "order_items.head()\n",
    "print(order_items.shape)\n",
    "print(order_items.columns)"
   ]
  },
  {
   "cell_type": "code",
   "execution_count": 6,
   "id": "203ac427",
   "metadata": {},
   "outputs": [
    {
     "name": "stdout",
     "output_type": "stream",
     "text": [
      "Index(['order_id', 'payment_sequential', 'payment_type',\n",
      "       'payment_installments', 'payment_value'],\n",
      "      dtype='object')\n",
      "(103886, 5)\n"
     ]
    }
   ],
   "source": [
    "order_payment = pd.read_csv(r\"data_files\\olist_order_payments_dataset.csv\")\n",
    "order_payment.head()\n",
    "print(order_payment.columns)\n",
    "print(order_payment.shape)"
   ]
  },
  {
   "cell_type": "code",
   "execution_count": 7,
   "id": "54f3f5d8",
   "metadata": {},
   "outputs": [
    {
     "name": "stdout",
     "output_type": "stream",
     "text": [
      "Index(['review_id', 'order_id', 'review_score', 'review_comment_title',\n",
      "       'review_comment_message', 'review_creation_date',\n",
      "       'review_answer_timestamp'],\n",
      "      dtype='object')\n",
      "(99224, 7)\n"
     ]
    }
   ],
   "source": [
    "order_reviews = pd.read_csv(r\"data_files\\olist_order_reviews_dataset.csv\")\n",
    "order_reviews.head()\n",
    "print(order_reviews.columns)\n",
    "print(order_reviews.shape)"
   ]
  },
  {
   "cell_type": "code",
   "execution_count": 8,
   "id": "aac46e9e",
   "metadata": {},
   "outputs": [
    {
     "name": "stdout",
     "output_type": "stream",
     "text": [
      "Index(['order_id', 'customer_id', 'order_status', 'order_purchase_timestamp',\n",
      "       'order_approved_at', 'order_delivered_carrier_date',\n",
      "       'order_delivered_customer_date', 'order_estimated_delivery_date'],\n",
      "      dtype='object')\n",
      "(99441, 8)\n"
     ]
    }
   ],
   "source": [
    "order_data = pd.read_csv(r\"data_files\\olist_orders_dataset.csv\")\n",
    "order_data.head()\n",
    "print(order_data.columns)\n",
    "print(order_data.shape)"
   ]
  },
  {
   "cell_type": "markdown",
   "id": "b98d1c24",
   "metadata": {},
   "source": [
    "### Probability of data"
   ]
  }
 ],
 "metadata": {
  "kernelspec": {
   "display_name": "Possum_Data",
   "language": "python",
   "name": "python3"
  },
  "language_info": {
   "codemirror_mode": {
    "name": "ipython",
    "version": 3
   },
   "file_extension": ".py",
   "mimetype": "text/x-python",
   "name": "python",
   "nbconvert_exporter": "python",
   "pygments_lexer": "ipython3",
   "version": "3.13.7"
  }
 },
 "nbformat": 4,
 "nbformat_minor": 5
}
