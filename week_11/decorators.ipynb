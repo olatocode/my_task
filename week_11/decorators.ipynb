{
 "cells": [
  {
   "cell_type": "code",
   "execution_count": null,
   "id": "f0567732",
   "metadata": {},
   "outputs": [
    {
     "name": "stdout",
     "output_type": "stream",
     "text": [
      "Good morning ooo! Welcome to my provision store How is family? \n"
     ]
    }
   ],
   "source": [
    "def add_nigerian_politeness(original_function):\n",
    "    \"\"\"This decorator adds Nigerian politeness to any greeting\"\"\"\n",
    "    def wrapper():\n",
    "        result = original_function() \n",
    "        return f\"Good morning ooo! {result} How is family? \"\n",
    "    return wrapper\n",
    "\n",
    "# Original simple greeting\n",
    "def basic_greeting():\n",
    "    return \"Hello\"\n",
    "\n",
    "za\n",
    "\n",
    "# Using the @ symbol (syntactic sugar)\n",
    "@add_nigerian_politeness\n",
    "def shop_greeting():\n",
    "    return \"Welcome to my provision store\"\n",
    "\n",
    "print(shop_greeting()) \n"
   ]
  }
 ],
 "metadata": {
  "kernelspec": {
   "display_name": "Python 3",
   "language": "python",
   "name": "python3"
  },
  "language_info": {
   "codemirror_mode": {
    "name": "ipython",
    "version": 3
   },
   "file_extension": ".py",
   "mimetype": "text/x-python",
   "name": "python",
   "nbconvert_exporter": "python",
   "pygments_lexer": "ipython3",
   "version": "3.13.7"
  }
 },
 "nbformat": 4,
 "nbformat_minor": 5
}
